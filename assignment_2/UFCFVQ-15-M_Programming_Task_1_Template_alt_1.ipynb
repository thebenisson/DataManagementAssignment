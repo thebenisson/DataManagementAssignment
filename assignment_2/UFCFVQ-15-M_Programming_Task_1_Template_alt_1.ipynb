{
 "cells": [
  {
   "cell_type": "markdown",
   "metadata": {},
   "source": [
    "# UFCFVQ-15-M Programming for Data Science (Autumn 2021)\n",
    "# Programming Task 1\n",
    "\n",
    "## Student Id: 9999999"
   ]
  },
  {
   "cell_type": "markdown",
   "metadata": {
    "deletable": false
   },
   "source": [
    "<p style=\"color:red; font-weight:bold; font-size:xx-small\">OVERALL COURSEWORK MARK: ___%</p>"
   ]
  },
  {
   "cell_type": "markdown",
   "metadata": {
    "deletable": false
   },
   "source": [
    "### Requirement FR1 - Develop a function to find the arithmetic mean"
   ]
  },
  {
   "cell_type": "code",
   "execution_count": 1,
   "metadata": {},
   "outputs": [
    {
     "name": "stdout",
     "output_type": "stream",
     "text": [
      "sample mean: 15.33\n"
     ]
    }
   ],
   "source": [
    "# quick function to replace None values with zero in an array\n",
    "parse_nonetype = lambda arr: [0 if item is None else item for item in arr]\n",
    "\n",
    "# FR1 - Arithmetic mean\n",
    "def mean(arr):\n",
    "  arr = parse_nonetype(arr)\n",
    "  mean = sum(arr)/len(arr)\n",
    "  return mean\n",
    "\n",
    "# testing on sample\n",
    "sample = [6, 2, 22, 21, 24, 23, 8, 9, 5, 3, 11, 28, 14, 13, 12, 26, 29, 16, 15, 20, 25, 1, 10, 18, 27, 19, 7]\n",
    "print(f'sample mean: {round(mean(sample), 2)}')"
   ]
  },
  {
   "cell_type": "markdown",
   "metadata": {
    "deletable": false
   },
   "source": [
    "<p style=\"color:red; font-weight:bold; font-size:xx-small\">MARK: __%</p>\n",
    "<p style=\"color:red; font-weight:bold; font-size:xx-small\">FEEDBACK: </p>"
   ]
  },
  {
   "cell_type": "markdown",
   "metadata": {
    "deletable": false
   },
   "source": [
    "### Requirement FR2 - Develop a function to find the standard deviation"
   ]
  },
  {
   "cell_type": "code",
   "execution_count": 2,
   "metadata": {},
   "outputs": [
    {
     "name": "stdout",
     "output_type": "stream",
     "text": [
      "standard deviation: 8.39\n"
     ]
    }
   ],
   "source": [
    "# mean standard deviation\n",
    "def deviation(arr):\n",
    "  arr = parse_nonetype(arr)\n",
    "  u = mean(arr)\n",
    "  var = sum((x - u)**2 for x in arr) / len(arr)\n",
    "  stdev = var**(1/2)\n",
    "  return stdev\n",
    "\n",
    "# testing on sample\n",
    "print(f'standard deviation: {round(deviation(sample),2)}')"
   ]
  },
  {
   "cell_type": "markdown",
   "metadata": {
    "deletable": false
   },
   "source": [
    "<p style=\"color:red; font-weight:bold; font-size:xx-small\">MARK: __%</p>\n",
    "<p style=\"color:red; font-weight:bold; font-size:xx-small\">FEEDBACK: </p>"
   ]
  },
  {
   "cell_type": "markdown",
   "metadata": {
    "deletable": false
   },
   "source": [
    "### Requirement FR3 - Develop a function to find the min/max values and count "
   ]
  },
  {
   "cell_type": "code",
   "execution_count": 3,
   "metadata": {},
   "outputs": [
    {
     "name": "stdout",
     "output_type": "stream",
     "text": [
      "min: 1\n",
      "max: 29\n",
      "count: 27\n"
     ]
    }
   ],
   "source": [
    "def min_max_count(arr):\n",
    "  arr = parse_nonetype(arr)\n",
    "  return min(arr), max(arr), len(arr)\n",
    "\n",
    "# testing on sample\n",
    "_min, _max, count = min_max_count(sample)\n",
    "print(f'min: {_min}\\nmax: {_max}\\ncount: {count}')"
   ]
  },
  {
   "cell_type": "markdown",
   "metadata": {
    "deletable": false
   },
   "source": [
    "<p style=\"color:red; font-weight:bold; font-size:xx-small\">MARK: __%</p>\n",
    "<p style=\"color:red; font-weight:bold; font-size:xx-small\">FEEDBACK: </p>"
   ]
  },
  {
   "cell_type": "markdown",
   "metadata": {
    "deletable": false
   },
   "source": [
    "### Requirement FR4 - Develop a function to find the 25th, 50th and 75th percentiles "
   ]
  },
  {
   "cell_type": "code",
   "execution_count": 4,
   "metadata": {},
   "outputs": [
    {
     "name": "stdout",
     "output_type": "stream",
     "text": [
      "25th: 8\n",
      "50th: 15\n",
      "75th: 22\n"
     ]
    }
   ],
   "source": [
    "def percentiles(arr):\n",
    "  arr = parse_nonetype(arr) # remove nonetype values\n",
    "  arr.sort()                # sort list\n",
    "  n = len(arr)              # number of elements\n",
    "\n",
    "  p1_index = 0.25 * n       # get index of 1/4th item in sorted list\n",
    "  p2_index = 0.50 * n       # get index of 1/2th item in sorted list\n",
    "  p3_index = 0.75 * n       # get index of 3/4th item in sorted list\n",
    "\n",
    "  percentiles = []\n",
    "  for idx in (p1_index, p2_index, p3_index):\n",
    "    # adjust for whole number or fractional idx\n",
    "    if idx.is_integer():      # whole number adjustment\n",
    "      idx = int(idx)                        # convert idx to integer if its whole\n",
    "      p = sum((arr[idx-1], arr[idx])) / 2   # percentile is the midpoint of the two values\n",
    "      percentiles.append(p)\n",
    "    else:                     # fractional adjustment\n",
    "      # work around so midpoint fractions like 2.5 is ceiled (rounded to 3)\n",
    "      # instead of floored (rounded to 2)\n",
    "      if (idx % 0.5) == 0 and ((idx-0.5) % 2 == 0):\n",
    "        idx = (idx + 0.1)\n",
    "\n",
    "      p = arr[round(idx)-1]   # select value at the rounded index\n",
    "      percentiles.append(p)\n",
    "\n",
    "  return percentiles\n",
    "\n",
    "# testing on sample\n",
    "p1, p2, p3 = percentiles(sample)\n",
    "print(f'25th: {p1}\\n50th: {p2}\\n75th: {p3}')"
   ]
  },
  {
   "cell_type": "markdown",
   "metadata": {
    "deletable": false
   },
   "source": [
    "<p style=\"color:red; font-weight:bold; font-size:xx-small\">MARK: __%</p>\n",
    "<p style=\"color:red; font-weight:bold; font-size:xx-small\">FEEDBACK: </p>"
   ]
  },
  {
   "cell_type": "markdown",
   "metadata": {
    "deletable": false
   },
   "source": [
    "### Requirement FR5 - Develop a function to read a single column from a CSV file"
   ]
  },
  {
   "cell_type": "code",
   "execution_count": 5,
   "metadata": {},
   "outputs": [
    {
     "name": "stdout",
     "output_type": "stream",
     "text": [
      "column: Other\n",
      "values: [0, 2.29693941, 3.539346, 4.763252129, 0.0811, 0.008019927, 0.109149431, 5.427544126, 52.88998503, 0.496261903, 0.679177831, 9.588635536, 6.737367486, 90.72346175, 2.088838157, 0.682716361, 0.05136, 4.7285, 6.119796142, 0.427967651, 0, 1.369850244, 0.23331662, 12.86168421, 8.521197318, 51.437, 0.298303335, 0.100724044, 2.371182482, 6.009414916, 30.45869682, 14.5368, 0.021740437, 0, 1.242427268, 0.115, 25.31219835, 33.6554308, 0.0024284, 0, 0.962146042, 0.47, 0.226101964, 0.05405, 1.004339878, 6.480283932, 0, 4.875860296, 8.320907599, 0.178266653, 0, 0.163131005, 0.022, 1.39699069, 0.0041, None, 2.647315578, 0.222533905, 1.667658529, 0.674414968, 11.540128, 6.331, 3.439, 0.114486339, 0.4617102, 0.4645, 0, 0.903, 1.419478261, 0.28827567, 0.530431005, 10.1747942, 7.378921565, 0.11339364, 11.85871366, 1.974071402, 2.01435, 12.31650175, 0, 9.983786807, 0, 0.218506543, 0.005983607, 35.58660245, 83.67703684, 0, 0]\n"
     ]
    }
   ],
   "source": [
    "def readone_column(filepath, colnum):\n",
    "  assert type(colnum) is int, \"colnum should be an integer\"\n",
    "  \n",
    "  column = []                       # memory placeholder for column data \n",
    "  csvfile = open(filepath, 'r')     # open the csv to be read\n",
    "\n",
    "  for line in csvfile:              # read file line by line\n",
    "    line = line.strip().split(',')  # remove spaces in the line strings and break into columns\n",
    "    if not (0 <= colnum < len(line)):\n",
    "      raise ValueError(f'colnum should be an integer in the inclusive range 0-{len(line)-1}')\n",
    "    column.append(line[colnum])     # put column value in placeholderread file content into memory\n",
    "\n",
    "  csvfile.close()                   # close file for safety\n",
    "  \n",
    "  # colname is the column name, found on the first line. the remainder of the column\n",
    "  # data represents the values for each record in that column\n",
    "  colname, colvalues = (column[0], column[1:])\n",
    "\n",
    "  # values are strings so convert to appropriate data type\n",
    "  colvalues = [\n",
    "    int(value) if value.isnumeric()                   # convert for integer\n",
    "    else float(value) if (len(value.split('.'))==2)   # convert for float\n",
    "    else None if (value=='')                          # convert for null\n",
    "    else value for value in colvalues                 # convert for string\n",
    "  ]\n",
    "\n",
    "  return colname, colvalues\n",
    "  \n",
    "# reading column 3 ie. the 'Others' column\n",
    "col, val = readone_column('task1.csv', 3)\n",
    "print(f'column: {col}\\nvalues: {val}')"
   ]
  },
  {
   "cell_type": "markdown",
   "metadata": {
    "deletable": false
   },
   "source": [
    "<p style=\"color:red; font-weight:bold; font-size:xx-small\">MARK: __%</p>\n",
    "<p style=\"color:red; font-weight:bold; font-size:xx-small\">FEEDBACK: </p>"
   ]
  },
  {
   "cell_type": "markdown",
   "metadata": {
    "deletable": false
   },
   "source": [
    "### Requirement FR6 - Develop a function to read CSV data from a file into memory"
   ]
  },
  {
   "cell_type": "code",
   "execution_count": 6,
   "metadata": {},
   "outputs": [
    {
     "name": "stdout",
     "output_type": "stream",
     "text": [
      "column: Hydropower\n",
      "[0.117, 41.64945459, 17.26791, 37.52781287, 1.76795, 0.885632595, 0.45726487, 0.284810423, 387.6868063, 5.125584584, 244.839096, 387.2508762, 23.14438369, 1202.43, 56.64701407, 7.512550207, 0, 1.6272, 0.016454789, 20.69612073, 13.48338, 0.015617162, 38.93203591, 13.27777778, 64.2234218, 16.9, 5.720179713, 0, 0.221, 13.81099543, 139.6678322, 16.4112, 10.77, 3.1074588, 0.694087982, 0.0245, 45.85205715, 80.997, 10.3295118, 0, 2.433342329, 0.45, 0.094557415, 1.791368, 24.17649672, 32.39511459, 1.6934, 0.072348, 26.32037732, 138.4962175, 0, 62.91198244, 35.20305729, 2.255678699, 1.288541272, 0.0165, 69.46684307, 1.852952842, 35.99700727, 30.76868807, 9.383758, 1.971, 12.346, 0, 17.56396055, 190.21311, 0, 0, 3.591, 4.712487886, 0.914864856, 2.920390756, 35.19825724, 6.369370161, 61.91687566, 34.80394017, 4.4661, 7.597013, 0, 59.51828075, 0, 9.900734781, 0, 5.464660531, 288.7063404, 6.868202, 72.08394993]\n",
      "column: Solar\n",
      "[0.603, 0.108128528, 12.081099, 1.578641473, 0.03926, 0.299208359, 0.134485968, 3.971724224, 3.137078404, 1.103538835, 0.881300118, 3.5462509, 5.118720829, 177.5, 0.011999821, 0.073591668, 0.19183, 2.3386, 0.952973, 0.037991538, 1.035739071, 0.012679515, 0.441810565, 0.1622, 10.15871272, 46.164, 3.791092002, 0.000961, 0.588876056, 0, 30.73240318, 0.01836, 0.037698887, 0.057143443, 0.022173967, 1.793230515, 23.23072906, 71.6883359, 0.1146904, 0.088143148, 0.001263953, 0.08, 0.117480937, 0.022788, 0.459692933, 2.2428, 0.9502, 3.2012, 0.098244292, 0.064488547, 0.013718674, 0.585723529, 0.01484375, 0.697743206, 3.020039802, 0.111623598, 0.675171297, 0.128029166, 2.12332226, 0.745192715, 1.249117, 0.299, 1.02, 0.009423834, 1.674, 0.57106, 0.154871783, 0.283982555, 0.585, 0.253621, 4.935234819, 9.349876912, 12.52057273, 0.205337811, 0.373100151, 1.957371429, 2.733, 4.719656655, 0.003989071, 7.890694078, 0.00696, 1.286493457, 0.9468835, 12.92181535, 97.11818182, 0, 0.010008089]\n",
      "column: Wind\n",
      "[0.01, 1.412699784, 16.266484, 5.900014713, 0.0822, 0.005086066, 0.117978175, 7.468573702, 48.47990705, 1.378292235, 0.977082975, 32.17005152, 3.688710149, 366, 0.043437355, 1.379085419, 0.22061, 0.6093, 13.89880328, 0.080257771, 2.438966811, 0.633888557, 0.531134615, 5.857, 28.16738103, 111.59, 6.300269103, 0.000825, 0.608, 0.004365699, 60.31116, 0.198, 0.361973742, 0, 8.390989769, 0.105269485, 17.47251773, 6.789652, 0.5412648, 0.017452186, 0.123287671, 1.145, 0.307147387, 0.097338, 0, 12.62920683, 3.8407, 10.549225, 2.046003874, 3.875881, 0, 0.497064956, 0.0079, 1.428156269, 0.574940541, 0.453, 4.80031359, 0, 1.72268087, 1.493633864, 1.152924, 12.845, 12.657, 0, 6.497, 0.22774, 0, 0, 0.005, 0.006159, 6.894765181, 2.40369047, 50.83600814, 0.305662189, 16.81339144, 0.133, 1.6794, 0.76415852, 0, 19.825697, 0, 1.1274, 0.00075, 57.11571962, 277.7291061, 0, 0]\n",
      "column: Other\n",
      "[0, 2.29693941, 3.539346, 4.763252129, 0.0811, 0.008019927, 0.109149431, 5.427544126, 52.88998503, 0.496261903, 0.679177831, 9.588635536, 6.737367486, 90.72346175, 2.088838157, 0.682716361, 0.05136, 4.7285, 6.119796142, 0.427967651, 0, 1.369850244, 0.23331662, 12.86168421, 8.521197318, 51.437, 0.298303335, 0.100724044, 2.371182482, 6.009414916, 30.45869682, 14.5368, 0.021740437, 0, 1.242427268, 0.115, 25.31219835, 33.6554308, 0.0024284, 0, 0.962146042, 0.47, 0.226101964, 0.05405, 1.004339878, 6.480283932, 0, 4.875860296, 8.320907599, 0.178266653, 0, 0.163131005, 0.022, 1.39699069, 0.0041, None, 2.647315578, 0.222533905, 1.667658529, 0.674414968, 11.540128, 6.331, 3.439, 0.114486339, 0.4617102, 0.4645, 0, 0.903, 1.419478261, 0.28827567, 0.530431005, 10.1747942, 7.378921565, 0.11339364, 11.85871366, 1.974071402, 2.01435, 12.31650175, 0, 9.983786807, 0, 0.218506543, 0.005983607, 35.58660245, 83.67703684, 0, 0]\n"
     ]
    }
   ],
   "source": [
    "def readall_columns(filepath):\n",
    "  # get the number of columns in the csv\n",
    "  with open(filepath, 'r') as f:\n",
    "    columns = f.readline().strip().split(',')   # get one line and split into columns\n",
    "  numcols = len(columns)                        # get column count\n",
    "\n",
    "  # read entire csv into memory\n",
    "  allcolumns = {}\n",
    "  for i in range(numcols):\n",
    "    colname, colvalues = readone_column(filepath, i)\n",
    "    allcolumns[colname] = colvalues\n",
    "\n",
    "  return allcolumns\n",
    "\n",
    "# testing on task1.csv\n",
    "dataframe = readall_columns('task1.csv')\n",
    "for column, values in dataframe.items():\n",
    "  print(f'column: {column}\\n{values}')"
   ]
  },
  {
   "cell_type": "markdown",
   "metadata": {
    "deletable": false
   },
   "source": [
    "<p style=\"color:red; font-weight:bold; font-size:xx-small\">MARK: __%</p>\n",
    "<p style=\"color:red; font-weight:bold; font-size:xx-small\">FEEDBACK: </p>"
   ]
  },
  {
   "cell_type": "markdown",
   "metadata": {
    "deletable": false
   },
   "source": [
    "### Requirement FR7 - Develop a function to generate a set of statistics for a given data file"
   ]
  },
  {
   "cell_type": "code",
   "execution_count": 8,
   "metadata": {},
   "outputs": [
    {
     "name": "stdout",
     "output_type": "stream",
     "text": [
      "stats: ['Count', 'Mean', 'Stdev', 'Min', '25th', '50th', '75th', 'Max']\n",
      "Hydropower: [87, 48.45, 144.39, 0, 0.69, 7.51, 35.2, 1202.43]\n",
      "Solar: [87, 6.69, 23.17, 0, 0.08, 0.59, 2.34, 177.5]\n",
      "Wind: [87, 14.54, 50.44, 0, 0.08, 0.98, 6.5, 366]\n",
      "Other: [87, 7.01, 15.91, 0, 0.1, 0.9, 6.12, 90.72346175]\n"
     ]
    }
   ],
   "source": [
    "def describe(data):\n",
    "  # add statistic names into the statistics data frame\n",
    "  statistics = {\"stats\": [\"Count\",\"Mean\",\"Stdev\",\"Min\",\"25th\",\"50th\",\"75th\",\"Max\"]}\n",
    "\n",
    "  # generate statistics for each column in the data\n",
    "  for column in data.keys(): \n",
    "    values = data[column]\n",
    "    _min, _max, count = min_max_count(values)\n",
    "    u = mean(values)\n",
    "    stdev = deviation(values)\n",
    "    p1, p2, p3 = percentiles(values)\n",
    "  \n",
    "    statistics[column] = [count, round(u,2), round(stdev,2), _min, round(p1,2), \n",
    "            round(p2,2), round(p3,2), _max]\n",
    "  \n",
    "  return statistics\n",
    "\n",
    "# testing on the data read to memory above\n",
    "statistics = describe(dataframe)\n",
    "for column, values in statistics.items():\n",
    "  print(f'{column}: {values}')"
   ]
  },
  {
   "cell_type": "markdown",
   "metadata": {
    "deletable": false
   },
   "source": [
    "<p style=\"color:red; font-weight:bold; font-size:xx-small\">MARK: __%</p>\n",
    "<p style=\"color:red; font-weight:bold; font-size:xx-small\">FEEDBACK: </p>"
   ]
  },
  {
   "cell_type": "markdown",
   "metadata": {
    "deletable": false
   },
   "source": [
    "### Requirement FR8 - Develop a function to print a custom table"
   ]
  },
  {
   "cell_type": "code",
   "execution_count": 30,
   "metadata": {},
   "outputs": [
    {
     "name": "stdout",
     "output_type": "stream",
     "text": [
      "           ********************************************************\n",
      "           *   Hydropower  *  Solar   *   Wind   *     Other      *\n",
      "*******************************************************************\n",
      "*  Count   *       87      *    87    *    87    *       87       *\n",
      "*   Mean   *     48.45     *   6.69   *  14.54   *      7.01      *\n",
      "*  Stdev   *     144.39    *  23.17   *  50.44   *     15.91      *\n",
      "*   Min    *       0       *    0     *    0     *       0        *\n",
      "*   25th   *      0.69     *   0.08   *   0.08   *      0.1       *\n",
      "*   50th   *      7.51     *   0.59   *   0.98   *      0.9       *\n",
      "*   75th   *      35.2     *   2.34   *   6.5    *      6.12      *\n",
      "*   Max    *    1202.43    *  177.5   *   366    *  90.72346175   *\n",
      "*******************************************************************\n",
      "\n"
     ]
    }
   ],
   "source": [
    "def show(frame, columns=None, seperator='*', padding=5)->None:\n",
    "  # filter columns\n",
    "  if columns is not None:\n",
    "    # check if columns are passed in a list and that each specified column \n",
    "    # exists in the generated statistics dataframe\n",
    "    assert type(columns) is list \\\n",
    "    and all(column in frame.keys() for column in columns), \\\n",
    "      \"ensure all specified columns are in the dataset\"\n",
    "    frame = {key: value for key, value in frame.items() if key in columns or key == 'stats'}\n",
    "\n",
    "  # verify that specified seperator is a string\n",
    "  assert type(seperator) is str, \"seperator should be a string\"\n",
    "\n",
    "  # verify that specified padding is in range\n",
    "  assert type(padding) is int and (0 <= padding <= 9), \\\n",
    "    \"padding should be an integer in the inclusive range 0-9\"\n",
    "  \n",
    "  numcols = len(frame.keys())     # no. of colums in the table\n",
    "\n",
    "  # get the width of each column\n",
    "  width = [padding + (max(max(len(str(i)), len(k)) for i in frame[k])) for k in frame.keys()]\n",
    "  for column in frame.keys():\n",
    "    longest_value_length = max(len(str(value)) for value in frame[column])\n",
    "    width.append(padding + longest_value_length)\n",
    "\n",
    "  # build horizontal borders\n",
    "  horizontal_boader = seperator.join([seperator*(width[i]) for i in range(numcols)])\n",
    "  horizontal_boader = seperator + horizontal_boader + seperator             # add opening and closing border parts\n",
    "\n",
    "  # convert column name-values pair to a single list representing the column \n",
    "  columns = []\n",
    "  for column in frame.keys():\n",
    "    values = frame[column].copy()         # using a copy so original data is not mutated\n",
    "    values.insert(0, column)              # add column name to the front of the values\n",
    "    columns.append(values)                # return flattened column\n",
    "\n",
    "  # tweak header and boarder to match spec in appenndix\n",
    "  if columns[0][0] == 'stats':\n",
    "    columns[0][0] = ''                    # remove 'frame' header in the statistic names column\n",
    "    print(                                # print top boarder\n",
    "      horizontal_boader.replace(          # applying necessary edits\n",
    "      seperator+seperator*(width[0]), \n",
    "      ' '*(width[0]+1), 1)\n",
    "    )\n",
    "  else:\n",
    "    print(horizontal_boader)\n",
    "\n",
    "  # transpose columns to rows for line by line printing\n",
    "  rows = [[arr[i] for arr in columns] for i in range(9)]\n",
    "  for row in rows:\n",
    "    print(                                      # print current row to console\n",
    "      (' ' if row[0]=='' else seperator) +      # build row strings with column seperators\n",
    "      seperator.join(\n",
    "        str(row[i]).center(width[i]) +\n",
    "        (seperator if i==len(row)-1 else '')\n",
    "        for i in range(len(row))\n",
    "      )\n",
    "    )\n",
    "    \n",
    "    if rows.index(row)==0:  # add header bottom border\n",
    "      print(horizontal_boader)\n",
    "\n",
    "  print(horizontal_boader + '\\n')  # bottom horizontal border\n",
    "  return\n",
    "\n",
    "# test\n",
    "show(statistics)"
   ]
  },
  {
   "cell_type": "code",
   "execution_count": 24,
   "metadata": {},
   "outputs": [
    {
     "name": "stdout",
     "output_type": "stream",
     "text": [
      "           ########################################################\n",
      "           #   Hydropower  #  Solar   #   Wind   #     Other      #\n",
      "###################################################################\n",
      "#  Count   #       87      #    87    #    87    #       87       #\n",
      "#   Mean   #     48.45     #   6.69   #  14.54   #      7.01      #\n",
      "#  Stdev   #     144.39    #  23.17   #  50.44   #     15.91      #\n",
      "#   Min    #       0       #    0     #    0     #       0        #\n",
      "#   25th   #      0.69     #   0.08   #   0.08   #      0.1       #\n",
      "#   50th   #      7.51     #   0.59   #   0.98   #      0.9       #\n",
      "#   75th   #      35.2     #   2.34   #   6.5    #      6.12      #\n",
      "#   Max    #    1202.43    #  177.5   #   366    #  90.72346175   #\n",
      "###################################################################\n",
      "\n"
     ]
    }
   ],
   "source": [
    "# custom seperator\n",
    "show(statistics, seperator='#')"
   ]
  },
  {
   "cell_type": "code",
   "execution_count": 31,
   "metadata": {},
   "outputs": [
    {
     "name": "stdout",
     "output_type": "stream",
     "text": [
      "           ++++++++++++++++++++++++++++++++++\n",
      "           +   Hydropower  +     Other      +\n",
      "+++++++++++++++++++++++++++++++++++++++++++++\n",
      "+  Count   +       87      +       87       +\n",
      "+   Mean   +     48.45     +      7.01      +\n",
      "+  Stdev   +     144.39    +     15.91      +\n",
      "+   Min    +       0       +       0        +\n",
      "+   25th   +      0.69     +      0.1       +\n",
      "+   50th   +      7.51     +      0.9       +\n",
      "+   75th   +      35.2     +      6.12      +\n",
      "+   Max    +    1202.43    +  90.72346175   +\n",
      "+++++++++++++++++++++++++++++++++++++++++++++\n",
      "\n"
     ]
    }
   ],
   "source": [
    "# filtered columns\n",
    "show(statistics, seperator='+', columns=['Hydropower', 'Other'])"
   ]
  },
  {
   "cell_type": "markdown",
   "metadata": {
    "deletable": false
   },
   "source": [
    "<p style=\"color:red; font-weight:bold; font-size:xx-small\">MARK: __%</p>\n",
    "<p style=\"color:red; font-weight:bold; font-size:xx-small\">FEEDBACK: </p>"
   ]
  },
  {
   "cell_type": "markdown",
   "metadata": {
    "deletable": false
   },
   "source": [
    "# Coding Standards\n",
    "<p style=\"color:red; font-weight:bold; font-size:xx-small\">MARK: __%</p>\n",
    "<p style=\"color:red; font-weight:bold; font-size:xx-small\">FEEDBACK: </p>"
   ]
  },
  {
   "cell_type": "markdown",
   "metadata": {
    "deletable": false
   },
   "source": [
    "# Process Development Report for Task 1\n"
   ]
  },
  {
   "cell_type": "markdown",
   "metadata": {},
   "source": [
    "Add text here"
   ]
  },
  {
   "cell_type": "markdown",
   "metadata": {
    "deletable": false
   },
   "source": [
    "<p style=\"color:red; font-weight:bold; font-size:xx-small\">MARK: __%</p>\n",
    "<p style=\"color:red; font-weight:bold; font-size:xx-small\">FEEDBACK: </p>"
   ]
  }
 ],
 "metadata": {
  "kernelspec": {
   "display_name": "Python 3",
   "language": "python",
   "name": "python3"
  },
  "language_info": {
   "codemirror_mode": {
    "name": "ipython",
    "version": 3
   },
   "file_extension": ".py",
   "mimetype": "text/x-python",
   "name": "python",
   "nbconvert_exporter": "python",
   "pygments_lexer": "ipython3",
   "version": "3.7.11"
  }
 },
 "nbformat": 4,
 "nbformat_minor": 4
}
