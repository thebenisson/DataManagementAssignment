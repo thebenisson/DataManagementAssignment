{
 "cells": [
  {
   "cell_type": "markdown",
   "metadata": {},
   "source": [
    "# UFCFVQ-15-M Programming for Data Science (Autumn 2021)\n",
    "# Programming Task 1\n",
    "\n",
    "## Student Id: <span style=\"color: yellowgreen\">2104988</span>"
   ]
  },
  {
   "cell_type": "markdown",
   "metadata": {
    "deletable": false
   },
   "source": [
    "<p style=\"color:red; font-weight:bold; font-size:xx-small\">OVERALL COURSEWORK MARK: ___%</p>"
   ]
  },
  {
   "cell_type": "markdown",
   "metadata": {
    "deletable": false
   },
   "source": [
    "### Requirement FR1 - Develop a function to find the arithmetic mean"
   ]
  },
  {
   "cell_type": "code",
   "execution_count": 1,
   "metadata": {},
   "outputs": [
    {
     "name": "stdout",
     "output_type": "stream",
     "text": [
      "sample mean: 15.33\n"
     ]
    }
   ],
   "source": [
    "def _constrain(arr):\n",
    "  \"\"\"\n",
    "  A utility function used to ensure the values in the pertinent \n",
    "  array are numbers.\n",
    "  Input: list of values under consideration\n",
    "  Output: constrained array of such values\n",
    "  \"\"\"\n",
    "  assert all(                               \n",
    "    type(i) is int \n",
    "    or type(i) is float \n",
    "    or i is None \n",
    "    for i in arr\n",
    "  ), \"arr elements should be int or float\"\n",
    "\n",
    "  arr = [i for i in arr if i is not None]   # remove all null entries\n",
    "  return arr\n",
    "\n",
    "# FR1\n",
    "def arithmetic_mean(arr):\n",
    "  arr = _constrain(arr)\n",
    "  return sum(arr)/len(arr)\n",
    "\n",
    "# test on sample\n",
    "sample = [6, 2, 22, 21, 24, 23, 8, 9, 5, 3, 11, 28, 14, 13, 12, 26, 29, 16, 15, 20, 25, 1, 10, 18, 27, 19, 7]\n",
    "print(f'sample mean: {round(arithmetic_mean(sample), 2)}')"
   ]
  },
  {
   "cell_type": "markdown",
   "metadata": {
    "deletable": false
   },
   "source": [
    "<p style=\"color:red; font-weight:bold; font-size:xx-small\">MARK: __%</p>\n",
    "<p style=\"color:red; font-weight:bold; font-size:xx-small\">FEEDBACK: </p>"
   ]
  },
  {
   "cell_type": "markdown",
   "metadata": {
    "deletable": false
   },
   "source": [
    "### Requirement FR2 - Develop a function to find the standard deviation"
   ]
  },
  {
   "cell_type": "code",
   "execution_count": 2,
   "metadata": {},
   "outputs": [
    {
     "name": "stdout",
     "output_type": "stream",
     "text": [
      "sample standard deviation: 8.39\n"
     ]
    }
   ],
   "source": [
    "# implements the mean standard deviation\n",
    "def standard_deviation(arr):\n",
    "  arr = _constrain(arr)\n",
    "  mu = arithmetic_mean(arr)\n",
    "  mse = sum((x - mu)**2 for x in arr) / len(arr)\n",
    "  return mse**0.5 \n",
    "\n",
    "# test on sample\n",
    "print(f'sample standard deviation: {round(standard_deviation(sample),2)}')"
   ]
  },
  {
   "cell_type": "markdown",
   "metadata": {
    "deletable": false
   },
   "source": [
    "<p style=\"color:red; font-weight:bold; font-size:xx-small\">MARK: __%</p>\n",
    "<p style=\"color:red; font-weight:bold; font-size:xx-small\">FEEDBACK: </p>"
   ]
  },
  {
   "cell_type": "markdown",
   "metadata": {
    "deletable": false
   },
   "source": [
    "### Requirement FR3 - Develop a function to find the min/max values and count "
   ]
  },
  {
   "cell_type": "code",
   "execution_count": 3,
   "metadata": {},
   "outputs": [
    {
     "name": "stdout",
     "output_type": "stream",
     "text": [
      "sample min: 1\n",
      "sample max: 29\n",
      "sample count: 27\n"
     ]
    }
   ],
   "source": [
    "def info(arr):\n",
    "  arr = _constrain(arr)\n",
    "  return min(arr), max(arr), len(arr)\n",
    "\n",
    "# test\n",
    "stats = dict(zip(('sample min', 'sample max', 'sample count'), info(sample)))\n",
    "for key, val in stats.items():\n",
    "  print(f'{key}: {val}')"
   ]
  },
  {
   "cell_type": "markdown",
   "metadata": {
    "deletable": false
   },
   "source": [
    "<p style=\"color:red; font-weight:bold; font-size:xx-small\">MARK: __%</p>\n",
    "<p style=\"color:red; font-weight:bold; font-size:xx-small\">FEEDBACK: </p>"
   ]
  },
  {
   "cell_type": "markdown",
   "metadata": {
    "deletable": false
   },
   "source": [
    "### Requirement FR4 - Develop a function to find the 25th, 50th and 75th percentiles "
   ]
  },
  {
   "cell_type": "code",
   "execution_count": 4,
   "metadata": {},
   "outputs": [
    {
     "name": "stdout",
     "output_type": "stream",
     "text": [
      "25th: 8\n",
      "50th: 15\n",
      "75th: 22\n"
     ]
    }
   ],
   "source": [
    "def percentiles(arr):\n",
    "  arr = _constrain(arr)\n",
    "\n",
    "  def _calc_percentile(pos, arr):\n",
    "    # sort list\n",
    "    arr = sorted(arr) # used sorted() instead of list.sort() to maintain original data\n",
    "\n",
    "    # return the last element for the 100th percentile\n",
    "    if pos == 100:\n",
    "      return arr[-1]\n",
    "\n",
    "    # get index of percentile in the array\n",
    "    index = (pos / 100 * len(arr))\n",
    "\n",
    "    # adjust for whole number or fractional index\n",
    "    if index.is_integer(): # whole number adjustment\n",
    "      index = int(index) # convert index to integer if its whole\n",
    "      percentile = sum((arr[index-1], arr[index])) / 2\n",
    "    else: # fractional adjustment\n",
    "      # round() rounds to the nearest even number so adjust index\n",
    "      # for values with .5 where the integer part is even. eg. 6.5\n",
    "      # will be rounded to 7 instead of 6\n",
    "      index = (index + 0.1) if (index % 0.5) == 0 and ((index-0.5) % 2 == 0) else index\n",
    "      percentile = arr[round(index)-1]\n",
    "\n",
    "    return percentile\n",
    "\n",
    "  # calculate 25th, 50th and 75th percentiles\n",
    "  quartile_1 = _calc_percentile(25, arr)\n",
    "  median = _calc_percentile(50, arr)\n",
    "  quartile_3 = _calc_percentile(75, sorted(arr))\n",
    "  return quartile_1, median, quartile_3\n",
    "\n",
    "# test\n",
    "stats = dict(zip(('25th', '50th', '75th'), percentiles(sample)))\n",
    "for key, val in stats.items():\n",
    "  print(f'{key}: {val}')"
   ]
  },
  {
   "cell_type": "markdown",
   "metadata": {
    "deletable": false
   },
   "source": [
    "<p style=\"color:red; font-weight:bold; font-size:xx-small\">MARK: __%</p>\n",
    "<p style=\"color:red; font-weight:bold; font-size:xx-small\">FEEDBACK: </p>"
   ]
  },
  {
   "cell_type": "markdown",
   "metadata": {
    "deletable": false
   },
   "source": [
    "### Requirement FR5 - Develop a function to read a single column from a CSV file"
   ]
  },
  {
   "cell_type": "code",
   "execution_count": 5,
   "metadata": {},
   "outputs": [
    {
     "name": "stdout",
     "output_type": "stream",
     "text": [
      "column: Wind\n",
      "values: [0.01, 1.412699784, 16.266484, 5.900014713, 0.0822, 0.005086066, 0.117978175, 7.468573702, 48.47990705, 1.378292235, 0.977082975, 32.17005152, 3.688710149, 366, 0.043437355, 1.379085419, 0.22061, 0.6093, 13.89880328, 0.080257771, 2.438966811, 0.633888557, 0.531134615, 5.857, 28.16738103, 111.59, 6.300269103, 0.000825, 0.608, 0.004365699, 60.31116, 0.198, 0.361973742, 0, 8.390989769, 0.105269485, 17.47251773, 6.789652, 0.5412648, 0.017452186, 0.123287671, 1.145, 0.307147387, 0.097338, 0, 12.62920683, 3.8407, 10.549225, 2.046003874, 3.875881, 0, 0.497064956, 0.0079, 1.428156269, 0.574940541, 0.453, 4.80031359, 0, 1.72268087, 1.493633864, 1.152924, 12.845, 12.657, 0, 6.497, 0.22774, 0, 0, 0.005, 0.006159, 6.894765181, 2.40369047, 50.83600814, 0.305662189, 16.81339144, 0.133, 1.6794, 0.76415852, 0, 19.825697, 0, 1.1274, 0.00075, 57.11571962, 277.7291061, 0, 0]\n"
     ]
    }
   ],
   "source": [
    "def read_column(filename:str, col:int)->tuple:\n",
    "  \"\"\"\n",
    "  Read single column from csv\n",
    "  Input:\n",
    "    @param filename: path to the csv file\n",
    "    @param col: number of the column to be read\n",
    "  Output:\n",
    "    @return (label, data): label -> name of column, data -> values under column\n",
    "  \"\"\"\n",
    "  assert type(col) is int, \"col should be an integer\"\n",
    "  # read file content into memory\n",
    "  with open(filename, 'r') as f:\n",
    "    lines = f.readlines()\n",
    "\n",
    "  # remove return character at the end of lines and \n",
    "  # build a line generator\n",
    "  lines = (line.strip().split(',') for line in lines)\n",
    "\n",
    "  try:\n",
    "    # read column data from each line\n",
    "    column = [line[col] if (col < len(line) or col >= 0) else None  for line in lines]\n",
    "  except IndexError as err:\n",
    "    print(err)\n",
    "    return\n",
    "  \n",
    "  # label is the column name, found on the first line. the remainder of the data represents\n",
    "  label, data = (column[0], column[1:-1])\n",
    "  # parse string value into appropriate data type\n",
    "  data = [\n",
    "    int(i) if i.isnumeric()                 # case integer\n",
    "    else float(i) if (len(i.split('.'))==2) # case float\n",
    "    else None if (i=='')                    # case null\n",
    "    else i for i in data                    # case string\n",
    "  ]\n",
    "  return label, data\n",
    "  \n",
    "# reading column 2 (Wind)\n",
    "col, val = read_column('task1.csv', 2)\n",
    "print(f'column: {col}\\nvalues: {val}')"
   ]
  },
  {
   "cell_type": "markdown",
   "metadata": {
    "deletable": false
   },
   "source": [
    "<p style=\"color:red; font-weight:bold; font-size:xx-small\">MARK: __%</p>\n",
    "<p style=\"color:red; font-weight:bold; font-size:xx-small\">FEEDBACK: </p>"
   ]
  },
  {
   "cell_type": "markdown",
   "metadata": {
    "deletable": false
   },
   "source": [
    "### Requirement FR6 - Develop a function to read CSV data from a file into memory"
   ]
  },
  {
   "cell_type": "code",
   "execution_count": 6,
   "metadata": {},
   "outputs": [
    {
     "name": "stdout",
     "output_type": "stream",
     "text": [
      "column: Hydropower\n",
      "[0.117, 41.64945459, 17.26791, 37.52781287, 1.76795, 0.885632595, 0.45726487, 0.284810423, 387.6868063, 5.125584584, 244.839096, 387.2508762, 23.14438369, 1202.43, 56.64701407, 7.512550207, 0, 1.6272, 0.016454789, 20.69612073, 13.48338, 0.015617162, 38.93203591, 13.27777778, 64.2234218, 16.9, 5.720179713, 0, 0.221, 13.81099543, 139.6678322, 16.4112, 10.77, 3.1074588, 0.694087982, 0.0245, 45.85205715, 80.997, 10.3295118, 0, 2.433342329, 0.45, 0.094557415, 1.791368, 24.17649672, 32.39511459, 1.6934, 0.072348, 26.32037732, 138.4962175, 0, 62.91198244, 35.20305729, 2.255678699, 1.288541272, 0.0165, 69.46684307, 1.852952842, 35.99700727, 30.76868807, 9.383758, 1.971, 12.346, 0, 17.56396055, 190.21311, 0, 0, 3.591, 4.712487886, 0.914864856, 2.920390756, 35.19825724, 6.369370161, 61.91687566, 34.80394017, 4.4661, 7.597013, 0, 59.51828075, 0, 9.900734781, 0, 5.464660531, 288.7063404, 6.868202, 72.08394993]\n",
      "column: Solar\n",
      "[0.603, 0.108128528, 12.081099, 1.578641473, 0.03926, 0.299208359, 0.134485968, 3.971724224, 3.137078404, 1.103538835, 0.881300118, 3.5462509, 5.118720829, 177.5, 0.011999821, 0.073591668, 0.19183, 2.3386, 0.952973, 0.037991538, 1.035739071, 0.012679515, 0.441810565, 0.1622, 10.15871272, 46.164, 3.791092002, 0.000961, 0.588876056, 0, 30.73240318, 0.01836, 0.037698887, 0.057143443, 0.022173967, 1.793230515, 23.23072906, 71.6883359, 0.1146904, 0.088143148, 0.001263953, 0.08, 0.117480937, 0.022788, 0.459692933, 2.2428, 0.9502, 3.2012, 0.098244292, 0.064488547, 0.013718674, 0.585723529, 0.01484375, 0.697743206, 3.020039802, 0.111623598, 0.675171297, 0.128029166, 2.12332226, 0.745192715, 1.249117, 0.299, 1.02, 0.009423834, 1.674, 0.57106, 0.154871783, 0.283982555, 0.585, 0.253621, 4.935234819, 9.349876912, 12.52057273, 0.205337811, 0.373100151, 1.957371429, 2.733, 4.719656655, 0.003989071, 7.890694078, 0.00696, 1.286493457, 0.9468835, 12.92181535, 97.11818182, 0, 0.010008089]\n",
      "column: Wind\n",
      "[0.01, 1.412699784, 16.266484, 5.900014713, 0.0822, 0.005086066, 0.117978175, 7.468573702, 48.47990705, 1.378292235, 0.977082975, 32.17005152, 3.688710149, 366, 0.043437355, 1.379085419, 0.22061, 0.6093, 13.89880328, 0.080257771, 2.438966811, 0.633888557, 0.531134615, 5.857, 28.16738103, 111.59, 6.300269103, 0.000825, 0.608, 0.004365699, 60.31116, 0.198, 0.361973742, 0, 8.390989769, 0.105269485, 17.47251773, 6.789652, 0.5412648, 0.017452186, 0.123287671, 1.145, 0.307147387, 0.097338, 0, 12.62920683, 3.8407, 10.549225, 2.046003874, 3.875881, 0, 0.497064956, 0.0079, 1.428156269, 0.574940541, 0.453, 4.80031359, 0, 1.72268087, 1.493633864, 1.152924, 12.845, 12.657, 0, 6.497, 0.22774, 0, 0, 0.005, 0.006159, 6.894765181, 2.40369047, 50.83600814, 0.305662189, 16.81339144, 0.133, 1.6794, 0.76415852, 0, 19.825697, 0, 1.1274, 0.00075, 57.11571962, 277.7291061, 0, 0]\n",
      "column: Other\n",
      "[0, 2.29693941, 3.539346, 4.763252129, 0.0811, 0.008019927, 0.109149431, 5.427544126, 52.88998503, 0.496261903, 0.679177831, 9.588635536, 6.737367486, 90.72346175, 2.088838157, 0.682716361, 0.05136, 4.7285, 6.119796142, 0.427967651, 0, 1.369850244, 0.23331662, 12.86168421, 8.521197318, 51.437, 0.298303335, 0.100724044, 2.371182482, 6.009414916, 30.45869682, 14.5368, 0.021740437, 0, 1.242427268, 0.115, 25.31219835, 33.6554308, 0.0024284, 0, 0.962146042, 0.47, 0.226101964, 0.05405, 1.004339878, 6.480283932, 0, 4.875860296, 8.320907599, 0.178266653, 0, 0.163131005, 0.022, 1.39699069, 0.0041, None, 2.647315578, 0.222533905, 1.667658529, 0.674414968, 11.540128, 6.331, 3.439, 0.114486339, 0.4617102, 0.4645, 0, 0.903, 1.419478261, 0.28827567, 0.530431005, 10.1747942, 7.378921565, 0.11339364, 11.85871366, 1.974071402, 2.01435, 12.31650175, 0, 9.983786807, 0, 0.218506543, 0.005983607, 35.58660245, 83.67703684, 0, 0]\n"
     ]
    }
   ],
   "source": [
    "def read_csv(filename:str)->dict:\n",
    "  \"\"\"\n",
    "  Read data from csv column by column\n",
    "  Input:\n",
    "    @param filename: path to the csv file to be read\n",
    "  Output:\n",
    "    @return data: a dictionary of the form column: [data]\n",
    "  \"\"\"\n",
    "\n",
    "  # get the number of columns in the csv\n",
    "  with open(filename, 'r') as f:\n",
    "    line = f.readline().strip()\n",
    "  ncols = len(line.split(',')) # number of columns\n",
    "\n",
    "  # read file column by column into data frame\n",
    "  data = {}\n",
    "  for i in range(ncols):\n",
    "    col_label, col_data = read_column(filename, i)\n",
    "    data[col_label] = col_data\n",
    "\n",
    "  return data\n",
    "\n",
    "# reading whole csv\n",
    "whole_csv = read_csv('task1.csv')\n",
    "for col, val in whole_csv.items():\n",
    "  print(f'column: {col}\\n{val}')"
   ]
  },
  {
   "cell_type": "markdown",
   "metadata": {
    "deletable": false
   },
   "source": [
    "<p style=\"color:red; font-weight:bold; font-size:xx-small\">MARK: __%</p>\n",
    "<p style=\"color:red; font-weight:bold; font-size:xx-small\">FEEDBACK: </p>"
   ]
  },
  {
   "cell_type": "markdown",
   "metadata": {
    "deletable": false
   },
   "source": [
    "### Requirement FR7 - Develop a function to generate a set of statistics for a given data file"
   ]
  },
  {
   "cell_type": "code",
   "execution_count": 7,
   "metadata": {},
   "outputs": [
    {
     "name": "stdout",
     "output_type": "stream",
     "text": [
      "stats: ['Count', 'Mean', 'Stdev', 'Min', '25th', '50th', '75th', 'Max']\n",
      "Hydropower: [87, 48.45479, 144.393637, 0, 0.694088, 7.51255, 35.198257, 1202.43]\n",
      "Solar: [87, 6.692888, 23.17154, 0, 0.08, 0.585724, 2.3386, 177.5]\n",
      "Wind: [87, 14.541606, 50.437145, 0, 0.080258, 0.977083, 6.497, 366]\n",
      "Other: [86, 7.094786, 15.986218, 0, 0.109149, 0.932573, 6.331, 90.72346175]\n"
     ]
    }
   ],
   "source": [
    "def statistics(dataframe:dict)->dict:\n",
    "  \"\"\"\n",
    "  Generate statistics for data in memory\n",
    "  Input:\n",
    "    @param dataframe: a dictionary object holding the data read into memory\n",
    "  Outout:\n",
    "    @return stats_frame: a dictionary object holding the statictics on the input data\n",
    "  \"\"\"\n",
    "\n",
    "  # a helper to functionally generate statictics on data. Takes a column and retuns\n",
    "  # the name and statistics of that column\n",
    "  def stat_gen(column):\n",
    "    name, values = column\n",
    "    _min, _max, count = info(values)\n",
    "    mean = arithmetic_mean(values)\n",
    "    stdev = standard_deviation(values)\n",
    "    quartile1, quartile2, quartile3 = percentiles(values)\n",
    "  \n",
    "    stats = [count, round(mean,6), round(stdev,6), _min, round(quartile1,6), \n",
    "            round(quartile2,6), round(quartile3,6), _max]\n",
    "    return (name, stats) \n",
    "\n",
    "  # add statistic names into the stats_frame\n",
    "  stats_frame = {\"stats\": [\"Count\",\"Mean\",\"Stdev\",\"Min\",\"25th\",\"50th\",\"75th\",\"Max\"]}\n",
    "  result = dict(map(stat_gen, dataframe.items())) # generate statistics for all columns\n",
    "  \n",
    "  stats_frame = {**stats_frame, **result}  # merge generated statistics into the stats_frame\n",
    "  return stats_frame\n",
    "\n",
    "# test\n",
    "stats_frame = statistics(whole_csv)\n",
    "for col, val in stats_frame.items():\n",
    "  print(f'{col}: {val}')"
   ]
  },
  {
   "cell_type": "markdown",
   "metadata": {
    "deletable": false
   },
   "source": [
    "<p style=\"color:red; font-weight:bold; font-size:xx-small\">MARK: __%</p>\n",
    "<p style=\"color:red; font-weight:bold; font-size:xx-small\">FEEDBACK: </p>"
   ]
  },
  {
   "cell_type": "markdown",
   "metadata": {
    "deletable": false
   },
   "source": [
    "### Requirement FR8 - Develop a function to print a custom table"
   ]
  },
  {
   "cell_type": "code",
   "execution_count": 8,
   "metadata": {},
   "outputs": [
    {
     "name": "stdout",
     "output_type": "stream",
     "text": [
      "          +--------------+------------+-------------+---------------+\n",
      "          |  Hydropower  |   Solar    |     Wind    |     Other     |\n",
      "+---------+--------------+------------+-------------+---------------+\n",
      "|  Count  |      87      |     87     |      87     |       86      |\n",
      "|   Mean  |   48.45479   |  6.692888  |  14.541606  |    7.094786   |\n",
      "|  Stdev  |  144.393637  |  23.17154  |  50.437145  |   15.986218   |\n",
      "|   Min   |      0       |     0      |      0      |       0       |\n",
      "|   25th  |   0.694088   |    0.08    |   0.080258  |    0.109149   |\n",
      "|   50th  |   7.51255    |  0.585724  |   0.977083  |    0.932573   |\n",
      "|   75th  |  35.198257   |   2.3386   |    6.497    |     6.331     |\n",
      "+---------+--------------+------------+-------------+---------------+\n",
      "\n"
     ]
    }
   ],
   "source": [
    "def view(stats:dict, cols:[] or ()=None, sep:str=None, pad:int=4)->None:\n",
    "  \"\"\"\n",
    "  Display the data statistics as a 2-D grid.\n",
    "  Input: \n",
    "    @param stats: dictionary generated by statistics()\n",
    "    @param cols:  list or tuple the names of columns to show. If none, returns all columns\n",
    "    @param sep: a character/sring to be used for grid border.\n",
    "    @param pad: an integer x in the range 1 <= x < 10. Default is 4\n",
    "  Output: \n",
    "    @returns None\n",
    "    Prints 2D table of statictics to console\n",
    "  \"\"\"\n",
    "  # filter columns\n",
    "  if cols is not None:\n",
    "    assert type(cols) is list or type(cols) is tuple \\\n",
    "    and all(col in stats.keys() for col in cols), \\\n",
    "      \"ensure all specified columns are in the dataset\"\n",
    "    stats = {key: value for key, value in stats.items() if key in cols or key == 'stats'}\n",
    "\n",
    "  # determine separator\n",
    "  if sep is None:\n",
    "    # default uses three separators: - for horizontal, | for vertical and + from the cross point\n",
    "    hor, ver, jxn = ('-', '|', '+')\n",
    "  else:\n",
    "    assert type(sep) is str, \"seperator should be a string\"\n",
    "    hor, ver, jxn = (sep, sep, sep) # set all separators to the one specified\n",
    "\n",
    "  # verify that specified padding is in range\n",
    "  assert type(pad) is int and (pad >= 1) and (pad < 10), \\\n",
    "    \"padding should be an integer in the range 1-9\"\n",
    "  \n",
    "  numcols = len(stats.keys()) # no. of colums in the table\n",
    "\n",
    "  # list of the width of each column\n",
    "  width = [pad + (max(len(str(i)) for i in stats[k])) for k in stats.keys()]\n",
    "  # horizontal border\n",
    "  line = jxn + jxn.join([hor*(width[i]) for i in range(numcols)]) + jxn\n",
    "\n",
    "  # helper to flatten columns data. ie. to convert column name-values pair to \n",
    "  # a single list representing the column \n",
    "  def flatten(key, value):\n",
    "    value = value.copy() # get copy of values in column so original data is not mutated\n",
    "    value.insert(0, key) # add column name to the front of the values\n",
    "    return value # return flattened column\n",
    "\n",
    "  columns = [flatten(key, stats[key]) for key in stats.keys()]\n",
    "  rows = [[arr[i] for arr in columns] for i in range(8)]\n",
    "\n",
    "  # remove 'stats' from the headers\n",
    "  rows[0][0] = ''\n",
    "\n",
    "  print(line.replace(jxn+hor*width[0], ' '*(width[0]+1), 1)) # top horizontal border\n",
    "\n",
    "  # build row strings with column seperators\n",
    "  for row in rows:\n",
    "    print(\n",
    "      (' ' if row[0]=='' else ver) + \n",
    "      ver.join(\n",
    "        str(row[i]).center(width[i]) +\n",
    "        (ver if i==len(row)-1 else '')\n",
    "        for i in range(len(row))\n",
    "      )\n",
    "    )\n",
    "    # add header bottom border\n",
    "    if row[0] == '':\n",
    "      print(line)\n",
    "\n",
    "  print(line + '\\n') # bottom horizontal border\n",
    "  return\n",
    "\n",
    "# test\n",
    "view(stats_frame)"
   ]
  },
  {
   "cell_type": "code",
   "execution_count": 9,
   "metadata": {},
   "outputs": [
    {
     "name": "stdout",
     "output_type": "stream",
     "text": [
      "          ===========================================================\n",
      "          =  Hydropower  =   Solar    =     Wind    =     Other     =\n",
      "=====================================================================\n",
      "=  Count  =      87      =     87     =      87     =       86      =\n",
      "=   Mean  =   48.45479   =  6.692888  =  14.541606  =    7.094786   =\n",
      "=  Stdev  =  144.393637  =  23.17154  =  50.437145  =   15.986218   =\n",
      "=   Min   =      0       =     0      =      0      =       0       =\n",
      "=   25th  =   0.694088   =    0.08    =   0.080258  =    0.109149   =\n",
      "=   50th  =   7.51255    =  0.585724  =   0.977083  =    0.932573   =\n",
      "=   75th  =  35.198257   =   2.3386   =    6.497    =     6.331     =\n",
      "=====================================================================\n",
      "\n"
     ]
    }
   ],
   "source": [
    "# custom seperator\n",
    "view(stats_frame, sep='=')"
   ]
  },
  {
   "cell_type": "code",
   "execution_count": 10,
   "metadata": {},
   "outputs": [
    {
     "name": "stdout",
     "output_type": "stream",
     "text": [
      "          =============================\n",
      "          =  Hydropower  =   Solar    =\n",
      "=======================================\n",
      "=  Count  =      87      =     87     =\n",
      "=   Mean  =   48.45479   =  6.692888  =\n",
      "=  Stdev  =  144.393637  =  23.17154  =\n",
      "=   Min   =      0       =     0      =\n",
      "=   25th  =   0.694088   =    0.08    =\n",
      "=   50th  =   7.51255    =  0.585724  =\n",
      "=   75th  =  35.198257   =   2.3386   =\n",
      "=======================================\n",
      "\n"
     ]
    }
   ],
   "source": [
    "# filtered columns\n",
    "view(stats_frame, sep='=', cols=['Hydropower', 'Solar'])"
   ]
  },
  {
   "cell_type": "markdown",
   "metadata": {
    "deletable": false
   },
   "source": [
    "<p style=\"color:red; font-weight:bold; font-size:xx-small\">MARK: __%</p>\n",
    "<p style=\"color:red; font-weight:bold; font-size:xx-small\">FEEDBACK: </p>"
   ]
  },
  {
   "cell_type": "markdown",
   "metadata": {
    "deletable": false
   },
   "source": [
    "# Coding Standards\n",
    "<p style=\"color:red; font-weight:bold; font-size:xx-small\">MARK: __%</p>\n",
    "<p style=\"color:red; font-weight:bold; font-size:xx-small\">FEEDBACK: </p>"
   ]
  },
  {
   "cell_type": "markdown",
   "metadata": {
    "deletable": false
   },
   "source": [
    "# Process Development Report for Task 1\n"
   ]
  },
  {
   "cell_type": "markdown",
   "metadata": {},
   "source": [
    "Add text here"
   ]
  },
  {
   "cell_type": "markdown",
   "metadata": {
    "deletable": false
   },
   "source": [
    "<p style=\"color:red; font-weight:bold; font-size:xx-small\">MARK: __%</p>\n",
    "<p style=\"color:red; font-weight:bold; font-size:xx-small\">FEEDBACK: </p>"
   ]
  }
 ],
 "metadata": {
  "kernelspec": {
   "display_name": "Python 3",
   "language": "python",
   "name": "python3"
  },
  "language_info": {
   "codemirror_mode": {
    "name": "ipython",
    "version": 3
   },
   "file_extension": ".py",
   "mimetype": "text/x-python",
   "name": "python",
   "nbconvert_exporter": "python",
   "pygments_lexer": "ipython3",
   "version": "3.7.11"
  }
 },
 "nbformat": 4,
 "nbformat_minor": 4
}
