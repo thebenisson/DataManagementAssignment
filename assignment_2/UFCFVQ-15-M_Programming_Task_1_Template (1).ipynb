{
 "cells": [
  {
   "cell_type": "markdown",
   "metadata": {},
   "source": [
    "# UFCFVQ-15-M Programming for Data Science (Autumn 2021)\n",
    "# Programming Task 1\n",
    "\n",
    "## Student Id: 21046070"
   ]
  },
  {
   "cell_type": "markdown",
   "metadata": {
    "deletable": false
   },
   "source": [
    "<p style=\"color:red; font-weight:bold; font-size:xx-small\">OVERALL COURSEWORK MARK: ___%</p>"
   ]
  },
  {
   "cell_type": "markdown",
   "metadata": {
    "deletable": false
   },
   "source": [
    "### Requirement FR1 - Develop a function to find the arithmetic mean"
   ]
  },
  {
   "cell_type": "code",
   "execution_count": 1,
   "metadata": {},
   "outputs": [
    {
     "name": "stdout",
     "output_type": "stream",
     "text": [
      "The arithmetic mean is 15.333\n"
     ]
    }
   ],
   "source": [
    "#Define the list of x\n",
    "#Define mean to return the sum of x divided by the lenght of x\n",
    "\n",
    "p = [6, 2, 22, 21, 24, 23, 8, 9, 5, 3, 11, 28, 14, 13, 12, 26, 29, 16, 15, 20, 25, 1, 10, 18, 27, 19, 7]\n",
    "def mean(p):\n",
    "    m = sum(p)/ len(p)\n",
    "    return round(m, 3)\n",
    "\n",
    "print(\"The arithmetic mean is\", mean(p)) ## prints the string as well as the output.\n"
   ]
  },
  {
   "cell_type": "markdown",
   "metadata": {
    "deletable": false
   },
   "source": [
    "<p style=\"color:red; font-weight:bold; font-size:xx-small\">MARK: __%</p>\n",
    "<p style=\"color:red; font-weight:bold; font-size:xx-small\">FEEDBACK: </p>"
   ]
  },
  {
   "cell_type": "markdown",
   "metadata": {
    "deletable": false
   },
   "source": [
    "### Requirement FR2 - Develop a function to find the standard deviation"
   ]
  },
  {
   "cell_type": "code",
   "execution_count": 2,
   "metadata": {},
   "outputs": [
    {
     "name": "stdout",
     "output_type": "stream",
     "text": [
      "standard deviation is 8.393\n"
     ]
    }
   ],
   "source": [
    "#this function takes list as a parameter and returns a standard deviation\n",
    "def sd(p):                          # Define standard deviation\n",
    "    n = len(p)                      # Assign length of the list\n",
    "    m = mean(p)                     # Assign mean \n",
    "    devs =[(x-m)**2 for x in p]  # use list comprehension to calculate the various deviations\n",
    "    var = sum(devs)/n               # calcalutes the variance\n",
    "    sd = var**0.5                   # then we find the standard deviation as the square root of variance\n",
    "    return round(sd, 3)             # returns the standard deviation to 3decimal places\n",
    "\n",
    "print(\"standard deviation is\", sd(p))"
   ]
  },
  {
   "cell_type": "markdown",
   "metadata": {
    "deletable": false
   },
   "source": [
    "<p style=\"color:red; font-weight:bold; font-size:xx-small\">MARK: __%</p>\n",
    "<p style=\"color:red; font-weight:bold; font-size:xx-small\">FEEDBACK: </p>"
   ]
  },
  {
   "cell_type": "markdown",
   "metadata": {
    "deletable": false
   },
   "source": [
    "### Requirement FR3 - Develop a function to find the min/max values and count "
   ]
  },
  {
   "cell_type": "code",
   "execution_count": 3,
   "metadata": {},
   "outputs": [
    {
     "name": "stdout",
     "output_type": "stream",
     "text": [
      "min: 1, max: 29, count:27 in that order respectively\n"
     ]
    }
   ],
   "source": [
    "# #this function takes a sample list as the paranmeter and return its minimun, maximum count.\n",
    "#we will test this function with the sample list provided.\n",
    "#assign min, max and count variables\n",
    "\n",
    "numbers = [6, 2, 22, 21, 24, 23, 8, 9, 5, 3, 11, 28, 14, 13, 12, 26, 29, 16, 15, 20, 25, 1, 10, 18, 27, 19, 7]\n",
    "def get_min_max_count(numbers):\n",
    "    count = len(numbers)\n",
    "    minimum = min(numbers)\n",
    "    maximum= max(numbers)              \n",
    "    return minimum, maximum, count\n",
    "\n",
    "minimum, maximum,count = get_min_max_count(numbers)\n",
    "\n",
    "print(f'min: {minimum}, max: {maximum}, count:{count}', \"in that order respectively\")  ## in that order respectively"
   ]
  },
  {
   "cell_type": "markdown",
   "metadata": {
    "deletable": false
   },
   "source": [
    "<p style=\"color:red; font-weight:bold; font-size:xx-small\">MARK: __%</p>\n",
    "<p style=\"color:red; font-weight:bold; font-size:xx-small\">FEEDBACK: </p>"
   ]
  },
  {
   "cell_type": "markdown",
   "metadata": {
    "deletable": false
   },
   "source": [
    "### Requirement FR4 - Develop a function to find the 25th, 50th and 75th percentiles "
   ]
  },
  {
   "cell_type": "code",
   "execution_count": 33,
   "metadata": {},
   "outputs": [
    {
     "name": "stdout",
     "output_type": "stream",
     "text": [
      "(8.5, 15.5, 22.5)\n"
     ]
    }
   ],
   "source": [
    "#stating the list of values to help deduce the percentiles.\n",
    "\n",
    "def percentiles(p): #defining the function\n",
    "    count = len(p)\n",
    "    p.sort()\n",
    "                \n",
    "    value1 = round(0.25 * count)\n",
    "    value2 = round(0.50 * count)\n",
    "    value3 = round(0.75 * count)\n",
    "\n",
    "    p25 = (p[value1] + p[value1 - 1]) /2  #to get the 25th percentile\n",
    "    p50 = (p[value2] + p[value2 - 1]) /2  #to get the 50th percentile\n",
    "    p75 = (p[value3] + p[value3 - 1]) /2  #to get the 75th percentile\n",
    "\n",
    "    return round(p25, 3),round(p50, 3),round(p75, 3)\n",
    "\n",
    "    \n",
    "\n",
    "print(percentiles(p))\n",
    "    "
   ]
  },
  {
   "cell_type": "markdown",
   "metadata": {
    "deletable": false
   },
   "source": [
    "<p style=\"color:red; font-weight:bold; font-size:xx-small\">MARK: __%</p>\n",
    "<p style=\"color:red; font-weight:bold; font-size:xx-small\">FEEDBACK: </p>"
   ]
  },
  {
   "cell_type": "markdown",
   "metadata": {
    "deletable": false
   },
   "source": [
    "### Requirement FR5 - Develop a function to read a single column from a CSV file"
   ]
  },
  {
   "cell_type": "code",
   "execution_count": 5,
   "metadata": {},
   "outputs": [
    {
     "data": {
      "text/plain": [
       "('Solar',\n",
       " ['0.603',\n",
       "  '0.108128528',\n",
       "  '12.081099',\n",
       "  '1.578641473',\n",
       "  '0.03926',\n",
       "  '0.299208359',\n",
       "  '0.134485968',\n",
       "  '3.971724224',\n",
       "  '3.137078404',\n",
       "  '1.103538835',\n",
       "  '0.881300118',\n",
       "  '3.5462509',\n",
       "  '5.118720829',\n",
       "  '177.5',\n",
       "  '0.011999821',\n",
       "  '0.073591668',\n",
       "  '0.19183',\n",
       "  '2.3386',\n",
       "  '0.952973',\n",
       "  '0.037991538',\n",
       "  '1.035739071',\n",
       "  '0.012679515',\n",
       "  '0.441810565',\n",
       "  '0.1622',\n",
       "  '10.15871272',\n",
       "  '46.164',\n",
       "  '3.791092002',\n",
       "  '0.000961',\n",
       "  '0.588876056',\n",
       "  '0',\n",
       "  '30.73240318',\n",
       "  '0.01836',\n",
       "  '0.037698887',\n",
       "  '0.057143443',\n",
       "  '0.022173967',\n",
       "  '1.793230515',\n",
       "  '23.23072906',\n",
       "  '71.6883359',\n",
       "  '0.1146904',\n",
       "  '0.088143148',\n",
       "  '0.001263953',\n",
       "  '0.08',\n",
       "  '0.117480937',\n",
       "  '0.022788',\n",
       "  '0.459692933',\n",
       "  '2.2428',\n",
       "  '0.9502',\n",
       "  '3.2012',\n",
       "  '0.098244292',\n",
       "  '0.064488547',\n",
       "  '0.013718674',\n",
       "  '0.585723529',\n",
       "  '0.01484375',\n",
       "  '0.697743206',\n",
       "  '3.020039802',\n",
       "  '0.111623598',\n",
       "  '0.675171297',\n",
       "  '0.128029166',\n",
       "  '2.12332226',\n",
       "  '0.745192715',\n",
       "  '1.249117',\n",
       "  '0.299',\n",
       "  '1.02',\n",
       "  '0.009423834',\n",
       "  '1.674',\n",
       "  '0.57106',\n",
       "  '0.154871783',\n",
       "  '0.283982555',\n",
       "  '0.585',\n",
       "  '0.253621',\n",
       "  '4.935234819',\n",
       "  '9.349876912',\n",
       "  '12.52057273',\n",
       "  '0.205337811',\n",
       "  '0.373100151',\n",
       "  '1.957371429',\n",
       "  '2.733',\n",
       "  '4.719656655',\n",
       "  '0.003989071',\n",
       "  '7.890694078',\n",
       "  '0.00696',\n",
       "  '1.286493457',\n",
       "  '0.9468835',\n",
       "  '12.92181535',\n",
       "  '97.11818182',\n",
       "  '0',\n",
       "  '0.010008089',\n",
       "  '0.080231508'])"
      ]
     },
     "execution_count": 5,
     "metadata": {},
     "output_type": "execute_result"
    }
   ],
   "source": [
    "### This function reads a single column from a csv file. \n",
    "def read_csv_column(file_path, column=0):\n",
    "    \n",
    "    \n",
    " \n",
    "    # check if the file can be read\n",
    "    if not file_path.endswith('.csv'):\n",
    "        return 'the file must be a .csv file.'\n",
    "    \n",
    "    \n",
    "    # read csv file \n",
    "    file = open(file_path,'r')\n",
    "    \n",
    "    # read every line of the csv file\n",
    "    path = file.readlines()\n",
    "    \n",
    "    # close operation\n",
    "    file.close()\n",
    "\n",
    "    # split the first line to get the headers of the csv\n",
    "    head = path[0].strip(\"\\n\").split(',')\n",
    "\n",
    "    # check whether columns exceed headers\n",
    "    if column >= len(head) or  column < 0:\n",
    "        return f'column search must be in the range of columns 0 to {len(head) - 1}'\n",
    "       \n",
    "    data = [d.strip(\"\\n\").split(',')[column] for d in path]\n",
    "        \n",
    "    return (head[column], data[1:])\n",
    "\n",
    "read_csv_column('task1.csv', 1)   #### prints out header as a string and the values in the column as of the second column"
   ]
  },
  {
   "cell_type": "markdown",
   "metadata": {
    "deletable": false
   },
   "source": [
    "<p style=\"color:red; font-weight:bold; font-size:xx-small\">MARK: __%</p>\n",
    "<p style=\"color:red; font-weight:bold; font-size:xx-small\">FEEDBACK: </p>"
   ]
  },
  {
   "cell_type": "markdown",
   "metadata": {
    "deletable": false
   },
   "source": [
    "### Requirement FR6 - Develop a function to read CSV data from a file into memory"
   ]
  },
  {
   "cell_type": "code",
   "execution_count": 6,
   "metadata": {},
   "outputs": [
    {
     "data": {
      "text/plain": [
       "{'Hydropower': ['0.117',\n",
       "  '41.64945459',\n",
       "  '17.26791',\n",
       "  '37.52781287',\n",
       "  '1.76795',\n",
       "  '0.885632595',\n",
       "  '0.45726487',\n",
       "  '0.284810423',\n",
       "  '387.6868063',\n",
       "  '5.125584584',\n",
       "  '244.839096',\n",
       "  '387.2508762',\n",
       "  '23.14438369',\n",
       "  '1202.43',\n",
       "  '56.64701407',\n",
       "  '7.512550207',\n",
       "  '0',\n",
       "  '1.6272',\n",
       "  '0.016454789',\n",
       "  '20.69612073',\n",
       "  '13.48338',\n",
       "  '0.015617162',\n",
       "  '38.93203591',\n",
       "  '13.27777778',\n",
       "  '64.2234218',\n",
       "  '16.9',\n",
       "  '5.720179713',\n",
       "  '0',\n",
       "  '0.221',\n",
       "  '13.81099543',\n",
       "  '139.6678322',\n",
       "  '16.4112',\n",
       "  '10.77',\n",
       "  '3.1074588',\n",
       "  '0.694087982',\n",
       "  '0.0245',\n",
       "  '45.85205715',\n",
       "  '80.997',\n",
       "  '10.3295118',\n",
       "  '0',\n",
       "  '2.433342329',\n",
       "  '0.45',\n",
       "  '0.094557415',\n",
       "  '1.791368',\n",
       "  '24.17649672',\n",
       "  '32.39511459',\n",
       "  '1.6934',\n",
       "  '0.072348',\n",
       "  '26.32037732',\n",
       "  '138.4962175',\n",
       "  '0',\n",
       "  '62.91198244',\n",
       "  '35.20305729',\n",
       "  '2.255678699',\n",
       "  '1.288541272',\n",
       "  '0.0165',\n",
       "  '69.46684307',\n",
       "  '1.852952842',\n",
       "  '35.99700727',\n",
       "  '30.76868807',\n",
       "  '9.383758',\n",
       "  '1.971',\n",
       "  '12.346',\n",
       "  '0',\n",
       "  '17.56396055',\n",
       "  '190.21311',\n",
       "  '0',\n",
       "  '0',\n",
       "  '3.591',\n",
       "  '4.712487886',\n",
       "  '0.914864856',\n",
       "  '2.920390756',\n",
       "  '35.19825724',\n",
       "  '6.369370161',\n",
       "  '61.91687566',\n",
       "  '34.80394017',\n",
       "  '4.4661',\n",
       "  '7.597013',\n",
       "  '0',\n",
       "  '59.51828075',\n",
       "  '0',\n",
       "  '9.900734781',\n",
       "  '0',\n",
       "  '5.464660531',\n",
       "  '288.7063404',\n",
       "  '6.868202',\n",
       "  '72.08394993',\n",
       "  '80.70625435'],\n",
       " 'Solar': ['0.603',\n",
       "  '0.108128528',\n",
       "  '12.081099',\n",
       "  '1.578641473',\n",
       "  '0.03926',\n",
       "  '0.299208359',\n",
       "  '0.134485968',\n",
       "  '3.971724224',\n",
       "  '3.137078404',\n",
       "  '1.103538835',\n",
       "  '0.881300118',\n",
       "  '3.5462509',\n",
       "  '5.118720829',\n",
       "  '177.5',\n",
       "  '0.011999821',\n",
       "  '0.073591668',\n",
       "  '0.19183',\n",
       "  '2.3386',\n",
       "  '0.952973',\n",
       "  '0.037991538',\n",
       "  '1.035739071',\n",
       "  '0.012679515',\n",
       "  '0.441810565',\n",
       "  '0.1622',\n",
       "  '10.15871272',\n",
       "  '46.164',\n",
       "  '3.791092002',\n",
       "  '0.000961',\n",
       "  '0.588876056',\n",
       "  '0',\n",
       "  '30.73240318',\n",
       "  '0.01836',\n",
       "  '0.037698887',\n",
       "  '0.057143443',\n",
       "  '0.022173967',\n",
       "  '1.793230515',\n",
       "  '23.23072906',\n",
       "  '71.6883359',\n",
       "  '0.1146904',\n",
       "  '0.088143148',\n",
       "  '0.001263953',\n",
       "  '0.08',\n",
       "  '0.117480937',\n",
       "  '0.022788',\n",
       "  '0.459692933',\n",
       "  '2.2428',\n",
       "  '0.9502',\n",
       "  '3.2012',\n",
       "  '0.098244292',\n",
       "  '0.064488547',\n",
       "  '0.013718674',\n",
       "  '0.585723529',\n",
       "  '0.01484375',\n",
       "  '0.697743206',\n",
       "  '3.020039802',\n",
       "  '0.111623598',\n",
       "  '0.675171297',\n",
       "  '0.128029166',\n",
       "  '2.12332226',\n",
       "  '0.745192715',\n",
       "  '1.249117',\n",
       "  '0.299',\n",
       "  '1.02',\n",
       "  '0.009423834',\n",
       "  '1.674',\n",
       "  '0.57106',\n",
       "  '0.154871783',\n",
       "  '0.283982555',\n",
       "  '0.585',\n",
       "  '0.253621',\n",
       "  '4.935234819',\n",
       "  '9.349876912',\n",
       "  '12.52057273',\n",
       "  '0.205337811',\n",
       "  '0.373100151',\n",
       "  '1.957371429',\n",
       "  '2.733',\n",
       "  '4.719656655',\n",
       "  '0.003989071',\n",
       "  '7.890694078',\n",
       "  '0.00696',\n",
       "  '1.286493457',\n",
       "  '0.9468835',\n",
       "  '12.92181535',\n",
       "  '97.11818182',\n",
       "  '0',\n",
       "  '0.010008089',\n",
       "  '0.080231508'],\n",
       " 'Wind': ['0.01',\n",
       "  '1.412699784',\n",
       "  '16.266484',\n",
       "  '5.900014713',\n",
       "  '0.0822',\n",
       "  '0.005086066',\n",
       "  '0.117978175',\n",
       "  '7.468573702',\n",
       "  '48.47990705',\n",
       "  '1.378292235',\n",
       "  '0.977082975',\n",
       "  '32.17005152',\n",
       "  '3.688710149',\n",
       "  '366',\n",
       "  '0.043437355',\n",
       "  '1.379085419',\n",
       "  '0.22061',\n",
       "  '0.6093',\n",
       "  '13.89880328',\n",
       "  '0.080257771',\n",
       "  '2.438966811',\n",
       "  '0.633888557',\n",
       "  '0.531134615',\n",
       "  '5.857',\n",
       "  '28.16738103',\n",
       "  '111.59',\n",
       "  '6.300269103',\n",
       "  '0.000825',\n",
       "  '0.608',\n",
       "  '0.004365699',\n",
       "  '60.31116',\n",
       "  '0.198',\n",
       "  '0.361973742',\n",
       "  '0',\n",
       "  '8.390989769',\n",
       "  '0.105269485',\n",
       "  '17.47251773',\n",
       "  '6.789652',\n",
       "  '0.5412648',\n",
       "  '0.017452186',\n",
       "  '0.123287671',\n",
       "  '1.145',\n",
       "  '0.307147387',\n",
       "  '0.097338',\n",
       "  '0',\n",
       "  '12.62920683',\n",
       "  '3.8407',\n",
       "  '10.549225',\n",
       "  '2.046003874',\n",
       "  '3.875881',\n",
       "  '0',\n",
       "  '0.497064956',\n",
       "  '0.0079',\n",
       "  '1.428156269',\n",
       "  '0.574940541',\n",
       "  '0.453',\n",
       "  '4.80031359',\n",
       "  '0',\n",
       "  '1.72268087',\n",
       "  '1.493633864',\n",
       "  '1.152924',\n",
       "  '12.845',\n",
       "  '12.657',\n",
       "  '0',\n",
       "  '6.497',\n",
       "  '0.22774',\n",
       "  '0',\n",
       "  '0',\n",
       "  '0.005',\n",
       "  '0.006159',\n",
       "  '6.894765181',\n",
       "  '2.40369047',\n",
       "  '50.83600814',\n",
       "  '0.305662189',\n",
       "  '16.81339144',\n",
       "  '0.133',\n",
       "  '1.6794',\n",
       "  '0.76415852',\n",
       "  '0',\n",
       "  '19.825697',\n",
       "  '0',\n",
       "  '1.1274',\n",
       "  '0.00075',\n",
       "  '57.11571962',\n",
       "  '277.7291061',\n",
       "  '0',\n",
       "  '0',\n",
       "  '0.326664064'],\n",
       " 'Other': ['0',\n",
       "  '2.29693941',\n",
       "  '3.539346',\n",
       "  '4.763252129',\n",
       "  '0.0811',\n",
       "  '0.008019927',\n",
       "  '0.109149431',\n",
       "  '5.427544126',\n",
       "  '52.88998503',\n",
       "  '0.496261903',\n",
       "  '0.679177831',\n",
       "  '9.588635536',\n",
       "  '6.737367486',\n",
       "  '90.72346175',\n",
       "  '2.088838157',\n",
       "  '0.682716361',\n",
       "  '0.05136',\n",
       "  '4.7285',\n",
       "  '6.119796142',\n",
       "  '0.427967651',\n",
       "  '0',\n",
       "  '1.369850244',\n",
       "  '0.23331662',\n",
       "  '12.86168421',\n",
       "  '8.521197318',\n",
       "  '51.437',\n",
       "  '0.298303335',\n",
       "  '0.100724044',\n",
       "  '2.371182482',\n",
       "  '6.009414916',\n",
       "  '30.45869682',\n",
       "  '14.5368',\n",
       "  '0.021740437',\n",
       "  '0',\n",
       "  '1.242427268',\n",
       "  '0.115',\n",
       "  '25.31219835',\n",
       "  '33.6554308',\n",
       "  '0.0024284',\n",
       "  '0',\n",
       "  '0.962146042',\n",
       "  '0.47',\n",
       "  '0.226101964',\n",
       "  '0.05405',\n",
       "  '1.004339878',\n",
       "  '6.480283932',\n",
       "  '0',\n",
       "  '4.875860296',\n",
       "  '8.320907599',\n",
       "  '0.178266653',\n",
       "  '0',\n",
       "  '0.163131005',\n",
       "  '0.022',\n",
       "  '1.39699069',\n",
       "  '0.0041',\n",
       "  '',\n",
       "  '2.647315578',\n",
       "  '0.222533905',\n",
       "  '1.667658529',\n",
       "  '0.674414968',\n",
       "  '11.540128',\n",
       "  '6.331',\n",
       "  '3.439',\n",
       "  '0.114486339',\n",
       "  '0.4617102',\n",
       "  '0.4645',\n",
       "  '0',\n",
       "  '0.903',\n",
       "  '1.419478261',\n",
       "  '0.28827567',\n",
       "  '0.530431005',\n",
       "  '10.1747942',\n",
       "  '7.378921565',\n",
       "  '0.11339364',\n",
       "  '11.85871366',\n",
       "  '1.974071402',\n",
       "  '2.01435',\n",
       "  '12.31650175',\n",
       "  '0',\n",
       "  '9.983786807',\n",
       "  '0',\n",
       "  '0.218506543',\n",
       "  '0.005983607',\n",
       "  '35.58660245',\n",
       "  '83.67703684',\n",
       "  '0',\n",
       "  '0',\n",
       "  '0.060833333']}"
      ]
     },
     "execution_count": 6,
     "metadata": {},
     "output_type": "execute_result"
    }
   ],
   "source": [
    "def read_csv(file_path):\n",
    "      \n",
    "    \n",
    "    # check if the file can be read\n",
    "    if not file_path.endswith('.csv'):\n",
    "        return 'the file must be a .csv file.'\n",
    "    \n",
    "\n",
    "    # read file\n",
    "    file = open(file_path,'r')\n",
    "    \n",
    "    # read lines\n",
    "    head = file.readline()\n",
    "    \n",
    "    # closes the read lines operation\n",
    "    file.close()\n",
    "\n",
    "    # get the headers of the csv file\n",
    "    head = head.strip(\"\\n\").split(',')\n",
    "\n",
    "    output = dict()\n",
    "\n",
    "    for i in range(len(head)):\n",
    "        header, data = read_csv_column(file_path=file_path, column=i)\n",
    "        output[header] = data\n",
    "    \n",
    "    \n",
    "    return output\n",
    "\n",
    "\n",
    "memory = read_csv('task1.csv')\n",
    "\n",
    "memory    ### prints out output as a dict(memory)\n"
   ]
  },
  {
   "cell_type": "markdown",
   "metadata": {
    "deletable": false
   },
   "source": [
    "<p style=\"color:red; font-weight:bold; font-size:xx-small\">MARK: __%</p>\n",
    "<p style=\"color:red; font-weight:bold; font-size:xx-small\">FEEDBACK: </p>"
   ]
  },
  {
   "cell_type": "markdown",
   "metadata": {
    "deletable": false
   },
   "source": [
    "### Requirement FR7 - Develop a function to generate a set of statistics for a given data file"
   ]
  },
  {
   "cell_type": "code",
   "execution_count": 34,
   "metadata": {},
   "outputs": [
    {
     "data": {
      "text/plain": [
       "{'stats': ['mean', 'sdev', 'min', 'max', 'count', '25th', '50th', '75th'],\n",
       " 'Hydropower': [48.821, 143.612, 0, 1202.43, 88, 0.79, 7.555, 35.6],\n",
       " 'Solar': [6.618, 23.05, 0, 177.5, 88, 0.08, 0.585, 2.536],\n",
       " 'Wind': [14.38, 50.172, 0, 366, 88, 0.081, 0.871, 6.643],\n",
       " 'Other': [6.934, 15.839, 0, 90.72346175, 88, 0.091, 0.793, 6.225]}"
      ]
     },
     "execution_count": 34,
     "metadata": {},
     "output_type": "execute_result"
    }
   ],
   "source": [
    "def generate_statistics(data):\n",
    "    statistics = {'stats': ['mean', 'sdev', 'min', 'max', 'count', '25th', '50th', '75th']}\n",
    "\n",
    "    for key, value in data.items():\n",
    "        # values contain string entries so parse them to the appropriate types\n",
    "        value = [\n",
    "            int(val) if val.isnumeric()                   \n",
    "            else float(val) if (len(val.split('.'))==2)   \n",
    "            else 0 for val in value\n",
    "        ]\n",
    "\n",
    "        statistics[key] = [mean(value), sd(value)] \\\n",
    "                        + [val for val in get_min_max_count(value)] \\\n",
    "                        + [val for val in percentiles(value)]\n",
    "    return statistics\n",
    "\n",
    "stats = generate_statistics(memory)\n",
    "stats"
   ]
  },
  {
   "cell_type": "markdown",
   "metadata": {
    "deletable": false
   },
   "source": [
    "<p style=\"color:red; font-weight:bold; font-size:xx-small\">MARK: __%</p>\n",
    "<p style=\"color:red; font-weight:bold; font-size:xx-small\">FEEDBACK: </p>"
   ]
  },
  {
   "cell_type": "markdown",
   "metadata": {
    "deletable": false
   },
   "source": [
    "### Requirement FR8 - Develop a function to print a custom table"
   ]
  },
  {
   "cell_type": "code",
   "execution_count": 36,
   "metadata": {},
   "outputs": [
    {
     "name": "stdout",
     "output_type": "stream",
     "text": [
      "          *****************************************************\n",
      "          *  Hydropower  *  Solar  *   Wind   *     Other     *\n",
      "***************************************************************\n",
      "*   mean  *    48.821    *  6.618  *  14.38   *     6.934     *\n",
      "*   sdev  *   143.612    *  23.05  *  50.172  *     15.839    *\n",
      "*   min   *      0       *    0    *    0     *       0       *\n",
      "*   max   *   1202.43    *  177.5  *   366    *  90.72346175  *\n",
      "*  count  *      88      *    88   *    88    *       88      *\n",
      "*   25th  *     0.79     *   0.08  *  0.081   *     0.091     *\n",
      "*   50th  *    7.555     *  0.585  *  0.871   *     0.793     *\n",
      "*   75th  *     35.6     *  2.536  *  6.643   *     6.225     *\n",
      "***************************************************************\n"
     ]
    }
   ],
   "source": [
    "def print_table(statistics, sep='*', pad=4):\n",
    "    # flatten data\n",
    "    flat = []\n",
    "    for key, value in statistics.items():\n",
    "        column = [key if key!='stats' else ''] + value\n",
    "        flat.append(column)\n",
    "\n",
    "    # generate rows for line by line printing\n",
    "    numcols = len(flat[0])\n",
    "    rows = [[col[i] for col in flat] for i in range(numcols)]\n",
    "\n",
    "    # get the width of column\n",
    "    widths = [pad + max(len(str(val)) for val in col) for col in flat]\n",
    "\n",
    "    top_boarder = \" \"*(widths[0]+1) + sep.join(sep*widths[i] for i in range(1,len(widths))) + sep*2\n",
    "    bottom_boarder = sep.join(sep*widths[i] for i in range(len(widths))) + sep*2\n",
    "\n",
    "    # display table view\n",
    "    print(top_boarder)                                  # top table boarder\n",
    "    for rownum, row in enumerate(rows):\n",
    "        print((\" \" if rownum==0 else sep)               # left column border\n",
    "            + sep.join(str(row[i]).center(widths[i])    # bordered columns on row\n",
    "                for i in range(len(row))) \n",
    "            + sep                                       # right column boarder\n",
    "        )\n",
    "        if rownum == 0:\n",
    "            print(bottom_boarder)                       # bottom header boarder\n",
    "    print(bottom_boarder)                               # bottom table boarder\n",
    "\n",
    "print_table(stats)"
   ]
  },
  {
   "cell_type": "markdown",
   "metadata": {
    "deletable": false
   },
   "source": [
    "<p style=\"color:red; font-weight:bold; font-size:xx-small\">MARK: __%</p>\n",
    "<p style=\"color:red; font-weight:bold; font-size:xx-small\">FEEDBACK: </p>"
   ]
  },
  {
   "cell_type": "markdown",
   "metadata": {
    "deletable": false
   },
   "source": [
    "# Coding Standards\n",
    "<p style=\"color:red; font-weight:bold; font-size:xx-small\">MARK: __%</p>\n",
    "<p style=\"color:red; font-weight:bold; font-size:xx-small\">FEEDBACK: </p>"
   ]
  },
  {
   "cell_type": "markdown",
   "metadata": {
    "deletable": false
   },
   "source": [
    "# Process Development Report for Task 1\n"
   ]
  },
  {
   "cell_type": "markdown",
   "metadata": {},
   "source": [
    "Add text here"
   ]
  },
  {
   "cell_type": "markdown",
   "metadata": {
    "deletable": false
   },
   "source": [
    "<p style=\"color:red; font-weight:bold; font-size:xx-small\">MARK: __%</p>\n",
    "<p style=\"color:red; font-weight:bold; font-size:xx-small\">FEEDBACK: </p>"
   ]
  }
 ],
 "metadata": {
  "kernelspec": {
   "display_name": "Python 3 (ipykernel)",
   "language": "python",
   "name": "python3"
  },
  "language_info": {
   "codemirror_mode": {
    "name": "ipython",
    "version": 3
   },
   "file_extension": ".py",
   "mimetype": "text/x-python",
   "name": "python",
   "nbconvert_exporter": "python",
   "pygments_lexer": "ipython3",
   "version": "3.7.11"
  }
 },
 "nbformat": 4,
 "nbformat_minor": 4
}
